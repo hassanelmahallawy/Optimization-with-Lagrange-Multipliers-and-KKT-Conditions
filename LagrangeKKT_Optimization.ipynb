{
 "cells": [
  {
   "cell_type": "code",
   "execution_count": 6,
   "metadata": {},
   "outputs": [],
   "source": [
    "import numpy as np\n",
    "import sympy as sp"
   ]
  },
  {
   "cell_type": "markdown",
   "metadata": {},
   "source": [
    " Lagrange approach to solve mixed constraints optimization problems"
   ]
  },
  {
   "cell_type": "code",
   "execution_count": 7,
   "metadata": {},
   "outputs": [],
   "source": [
    "def find_minima(objective, eq_constraint, ineq_constraint):\n",
    "    # Define the symbols\n",
    "    x, y, lambda1, lambda2 = sp.symbols('x y lambda1 lambda2')\n",
    "\n",
    "    # Define the Lagrangian\n",
    "    L = objective + lambda1 * eq_constraint + lambda2 * ineq_constraint\n",
    "\n",
    "    # Calculate the gradients\n",
    "    grad_L = [sp.diff(L, var) for var in (x, y, lambda1)]\n",
    "\n",
    "    # Include the complementary slackness condition for the inequality constraint\n",
    "    KKT_conditions = grad_L + [lambda2 * ineq_constraint]\n",
    "\n",
    "    # Solve the system of equations\n",
    "    solutions = sp.solve(KKT_conditions, (x, y, lambda1, lambda2), dict=True)\n",
    "\n",
    "    # Filter solutions based on the inequality constraint and lambda2 >= 0\n",
    "    valid_solutions = [sol for sol in solutions if sol[lambda2] >= 0 and ineq_constraint.subs(sol) <= 0]\n",
    "\n",
    "    return valid_solutions\n"
   ]
  },
  {
   "cell_type": "markdown",
   "metadata": {},
   "source": [
    "Example 1"
   ]
  },
  {
   "cell_type": "code",
   "execution_count": 8,
   "metadata": {},
   "outputs": [
    {
     "name": "stdout",
     "output_type": "stream",
     "text": [
      "Solution: x = 1/3, y = -2/3, lambda1 = -2/3, lambda2 = 0\n"
     ]
    }
   ],
   "source": [
    "# Example usage:\n",
    "objective = x**2 - y**2\n",
    "eq_constraint = x + 2*y + 1\n",
    "ineq_constraint = x - y - 3\n",
    "\n",
    "solutions = find_minima(objective, eq_constraint, ineq_constraint)\n",
    "for sol in solutions:\n",
    "    print(f\"Solution: x = {sol[x]}, y = {sol[y]}, lambda1 = {sol[lambda1]}, lambda2 = {sol[lambda2]}\")\n"
   ]
  },
  {
   "cell_type": "markdown",
   "metadata": {},
   "source": [
    "Example 2"
   ]
  },
  {
   "cell_type": "code",
   "execution_count": 9,
   "metadata": {},
   "outputs": [
    {
     "name": "stdout",
     "output_type": "stream",
     "text": [
      "Solution: x = 1/2, y = 3/2, lambda1 = -1, lambda2 = 0\n"
     ]
    }
   ],
   "source": [
    "# Example usage:\n",
    "objective = (x-1)**2 + y - 2\n",
    "eq_constraint = y - x - 1\n",
    "ineq_constraint = x + y- 2\n",
    "\n",
    "solutions = find_minima(objective, eq_constraint, ineq_constraint)\n",
    "for sol in solutions:\n",
    "    print(f\"Solution: x = {sol[x]}, y = {sol[y]}, lambda1 = {sol[lambda1]}, lambda2 = {sol[lambda2]}\")\n"
   ]
  }
 ],
 "metadata": {
  "kernelspec": {
   "display_name": "Python 3",
   "language": "python",
   "name": "python3"
  },
  "language_info": {
   "codemirror_mode": {
    "name": "ipython",
    "version": 3
   },
   "file_extension": ".py",
   "mimetype": "text/x-python",
   "name": "python",
   "nbconvert_exporter": "python",
   "pygments_lexer": "ipython3",
   "version": "3.11.5"
  }
 },
 "nbformat": 4,
 "nbformat_minor": 2
}
